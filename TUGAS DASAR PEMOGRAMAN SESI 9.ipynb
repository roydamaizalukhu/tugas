{
 "cells": [
  {
   "cell_type": "code",
   "execution_count": 2,
   "id": "2a2478eb",
   "metadata": {},
   "outputs": [
    {
     "name": "stdout",
     "output_type": "stream",
     "text": [
      "Nama : Roi damai zalukhu\n",
      "Nim : 20220040186\n",
      "Kelas : TI22E\n",
      "\n",
      "List fruit = ['Mangga', 'Anggur', 'Apel', 'Pepaya']\n",
      "List copy = ['Mangga', 'Anggur', 'Apel', 'Pepaya']\n",
      "\n",
      "\n",
      "List num = [1, 2, 3, 3, 4, 5, 5, 4, 4, 4, 3, 2, 2]\n",
      "jumlah angka 1 ada 1\n",
      "jumlah angka 2 ada 3\n",
      "jumlah angka 3 ada 3\n",
      "jumlah angka 4 ada 4\n",
      "jumlah angka 5 ada 2\n",
      "\n",
      "\n",
      "List buah asam = ['Lemon', 'Kedongdong', 'Markisa']\n",
      "list buah manis = ['Apel', 'Semangka', 'Mangga']\n",
      "list semua buah = ['Lemon', 'Kedongdong', 'Markisa', 'Apel', 'Semangka', 'Mangga']\n",
      "\n"
     ]
    }
   ],
   "source": [
    "print(\"Nama : Roi damai zalukhu\")\n",
    "print(\"Nim : 20220040186\")\n",
    "print(\"Kelas : TI22E\")\n",
    "\n",
    "# Contoh Penerapan copy()\n",
    "fruit = [\"Mangga\",\"Anggur\",\"Apel\",\"Pepaya\"]\n",
    "copy = fruit.copy()\n",
    "print(f\"\"\"\n",
    "List fruit = {fruit}\n",
    "List copy = {copy}\n",
    "\"\"\")\n",
    "\n",
    "# Contoh penerapan count()\n",
    "num = [1,2,3,3,4,5,5,4,4,4,3,2,2]\n",
    "print(f\"\"\"\n",
    "List num = {num}\n",
    "jumlah angka 1 ada {num.count(1)}\n",
    "jumlah angka 2 ada {num.count(2)}\n",
    "jumlah angka 3 ada {num.count(3)}\n",
    "jumlah angka 4 ada {num.count(4)}\n",
    "jumlah angka 5 ada {num.count(5)}\n",
    "\"\"\")\n",
    "\n",
    "# Contoh penerapan extend()\n",
    "buah_asam = [\"Lemon\",\"Kedongdong\",\"Markisa\"]\n",
    "buah_manis = [\"Apel\",\"Semangka\",\"Mangga\"]\n",
    "buah = []\n",
    "buah.extend(buah_asam)\n",
    "buah.extend(buah_manis)\n",
    "print(f\"\"\"\n",
    "List buah asam = {buah_asam}\n",
    "list buah manis = {buah_manis}\n",
    "list semua buah = {buah}\n",
    "\"\"\")"
   ]
  }
 ],
 "metadata": {
  "kernelspec": {
   "display_name": "Python 3 (ipykernel)",
   "language": "python",
   "name": "python3"
  },
  "language_info": {
   "codemirror_mode": {
    "name": "ipython",
    "version": 3
   },
   "file_extension": ".py",
   "mimetype": "text/x-python",
   "name": "python",
   "nbconvert_exporter": "python",
   "pygments_lexer": "ipython3",
   "version": "3.9.13"
  }
 },
 "nbformat": 4,
 "nbformat_minor": 5
}
